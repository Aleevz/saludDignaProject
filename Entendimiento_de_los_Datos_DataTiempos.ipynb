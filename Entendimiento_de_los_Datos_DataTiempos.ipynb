{
 "cells": [
  {
   "cell_type": "markdown",
   "id": "41020997",
   "metadata": {},
   "source": [
    "# Descripción Inicial\n",
    "\n",
    "## Número de observaciones y variables\t"
   ]
  },
  {
   "cell_type": "code",
   "execution_count": 1,
   "id": "077ae573",
   "metadata": {
    "execution": {
     "iopub.execute_input": "2025-05-04T22:06:45.224908Z",
     "iopub.status.busy": "2025-05-04T22:06:45.224731Z",
     "iopub.status.idle": "2025-05-04T22:06:46.360902Z",
     "shell.execute_reply": "2025-05-04T22:06:46.360625Z",
     "shell.execute_reply.started": "2025-05-04T22:06:45.224887Z"
    },
    "scrolled": true
   },
   "outputs": [
    {
     "data": {
      "text/html": [
       "<div>\n",
       "<style scoped>\n",
       "    .dataframe tbody tr th:only-of-type {\n",
       "        vertical-align: middle;\n",
       "    }\n",
       "\n",
       "    .dataframe tbody tr th {\n",
       "        vertical-align: top;\n",
       "    }\n",
       "\n",
       "    .dataframe thead th {\n",
       "        text-align: right;\n",
       "    }\n",
       "</style>\n",
       "<table border=\"1\" class=\"dataframe\">\n",
       "  <thead>\n",
       "    <tr style=\"text-align: right;\">\n",
       "      <th></th>\n",
       "      <th>Sucursal</th>\n",
       "      <th>EstudioModalidad</th>\n",
       "      <th>ReservacionSP</th>\n",
       "      <th>TEPFechaEspera</th>\n",
       "      <th>TEPHoraInicio</th>\n",
       "      <th>TEPHoraFin</th>\n",
       "      <th>TEPMinutos</th>\n",
       "      <th>TAPFechaAtencion</th>\n",
       "      <th>TAPHoraInicio</th>\n",
       "      <th>TAPHoraFin</th>\n",
       "      <th>TAPMinutos</th>\n",
       "    </tr>\n",
       "  </thead>\n",
       "  <tbody>\n",
       "    <tr>\n",
       "      <th>0</th>\n",
       "      <td>COYOACAN</td>\n",
       "      <td>DENSITOMETRIA</td>\n",
       "      <td>806115606</td>\n",
       "      <td>20250302</td>\n",
       "      <td>2025-03-02 13:20:00</td>\n",
       "      <td>2025-03-02T11:40:15.1130000</td>\n",
       "      <td>0.00</td>\n",
       "      <td>20250302</td>\n",
       "      <td>2025-03-02T11:40:15.1130000</td>\n",
       "      <td>2025-03-02T11:47:18.1700000</td>\n",
       "      <td>7.05</td>\n",
       "    </tr>\n",
       "    <tr>\n",
       "      <th>1</th>\n",
       "      <td>COYOACAN</td>\n",
       "      <td>DENSITOMETRIA</td>\n",
       "      <td>918870299</td>\n",
       "      <td>20250329</td>\n",
       "      <td>2025-03-29 07:11:15.77</td>\n",
       "      <td>2025-03-29T07:39:49.4000000</td>\n",
       "      <td>28.57</td>\n",
       "      <td>20250329</td>\n",
       "      <td>2025-03-29T07:39:49.4000000</td>\n",
       "      <td>2025-03-29T07:45:18.2300000</td>\n",
       "      <td>5.48</td>\n",
       "    </tr>\n",
       "    <tr>\n",
       "      <th>2</th>\n",
       "      <td>COYOACAN</td>\n",
       "      <td>DENSITOMETRIA</td>\n",
       "      <td>921436045</td>\n",
       "      <td>20250321</td>\n",
       "      <td>2025-03-21 15:55:53.723</td>\n",
       "      <td>2025-03-21T16:15:07.2300000</td>\n",
       "      <td>19.23</td>\n",
       "      <td>20250321</td>\n",
       "      <td>2025-03-21T16:15:07.2300000</td>\n",
       "      <td>2025-03-21T16:21:50.1270000</td>\n",
       "      <td>6.72</td>\n",
       "    </tr>\n",
       "    <tr>\n",
       "      <th>3</th>\n",
       "      <td>COYOACAN</td>\n",
       "      <td>DENSITOMETRIA</td>\n",
       "      <td>923595474</td>\n",
       "      <td>20250301</td>\n",
       "      <td>2025-03-01 08:03:01.36</td>\n",
       "      <td>2025-03-01T09:42:16.9900000</td>\n",
       "      <td>99.25</td>\n",
       "      <td>20250301</td>\n",
       "      <td>2025-03-01T09:42:16.9900000</td>\n",
       "      <td>2025-03-01T09:48:03.5770000</td>\n",
       "      <td>5.78</td>\n",
       "    </tr>\n",
       "    <tr>\n",
       "      <th>4</th>\n",
       "      <td>COYOACAN</td>\n",
       "      <td>DENSITOMETRIA</td>\n",
       "      <td>926170090</td>\n",
       "      <td>20250302</td>\n",
       "      <td>2025-03-02 09:40:00</td>\n",
       "      <td>2025-03-02T09:20:46.2400000</td>\n",
       "      <td>0.00</td>\n",
       "      <td>20250302</td>\n",
       "      <td>2025-03-02T09:20:46.2400000</td>\n",
       "      <td>2025-03-02T09:27:47.6170000</td>\n",
       "      <td>7.02</td>\n",
       "    </tr>\n",
       "  </tbody>\n",
       "</table>\n",
       "</div>"
      ],
      "text/plain": [
       "   Sucursal EstudioModalidad  ReservacionSP  TEPFechaEspera  \\\n",
       "0  COYOACAN    DENSITOMETRIA      806115606        20250302   \n",
       "1  COYOACAN    DENSITOMETRIA      918870299        20250329   \n",
       "2  COYOACAN    DENSITOMETRIA      921436045        20250321   \n",
       "3  COYOACAN    DENSITOMETRIA      923595474        20250301   \n",
       "4  COYOACAN    DENSITOMETRIA      926170090        20250302   \n",
       "\n",
       "             TEPHoraInicio                   TEPHoraFin  TEPMinutos  \\\n",
       "0      2025-03-02 13:20:00  2025-03-02T11:40:15.1130000        0.00   \n",
       "1   2025-03-29 07:11:15.77  2025-03-29T07:39:49.4000000       28.57   \n",
       "2  2025-03-21 15:55:53.723  2025-03-21T16:15:07.2300000       19.23   \n",
       "3   2025-03-01 08:03:01.36  2025-03-01T09:42:16.9900000       99.25   \n",
       "4      2025-03-02 09:40:00  2025-03-02T09:20:46.2400000        0.00   \n",
       "\n",
       "   TAPFechaAtencion                TAPHoraInicio                   TAPHoraFin  \\\n",
       "0          20250302  2025-03-02T11:40:15.1130000  2025-03-02T11:47:18.1700000   \n",
       "1          20250329  2025-03-29T07:39:49.4000000  2025-03-29T07:45:18.2300000   \n",
       "2          20250321  2025-03-21T16:15:07.2300000  2025-03-21T16:21:50.1270000   \n",
       "3          20250301  2025-03-01T09:42:16.9900000  2025-03-01T09:48:03.5770000   \n",
       "4          20250302  2025-03-02T09:20:46.2400000  2025-03-02T09:27:47.6170000   \n",
       "\n",
       "   TAPMinutos  \n",
       "0        7.05  \n",
       "1        5.48  \n",
       "2        6.72  \n",
       "3        5.78  \n",
       "4        7.02  "
      ]
     },
     "execution_count": 1,
     "metadata": {},
     "output_type": "execute_result"
    }
   ],
   "source": [
    "import numpy as np\n",
    "import pandas as pd\n",
    "import seaborn as sns\n",
    "import matplotlib.pyplot as plt\n",
    "df1 = pd.read_csv('data\\DataTiempos.csv')\n",
    "df1.head()"
   ]
  },
  {
   "cell_type": "code",
   "execution_count": 2,
   "id": "8a42e76e",
   "metadata": {},
   "outputs": [
    {
     "data": {
      "text/plain": [
       "(109167, 11)"
      ]
     },
     "execution_count": 2,
     "metadata": {},
     "output_type": "execute_result"
    }
   ],
   "source": [
    "df1.shape"
   ]
  },
  {
   "cell_type": "markdown",
   "id": "ceeba96f",
   "metadata": {},
   "source": [
    "La base de datos de tiempos, que será la utilizada para la problemática de ruta óptima en la clínica cuenta con 11 variables y 109,167 observaciones."
   ]
  },
  {
   "cell_type": "markdown",
   "id": "89f3987b",
   "metadata": {},
   "source": [
    "## Breve descripción de las variables\n",
    "\n",
    "### Tipo de datos:"
   ]
  },
  {
   "cell_type": "code",
   "execution_count": 3,
   "id": "245a89c9",
   "metadata": {
    "execution": {
     "iopub.execute_input": "2025-05-04T22:06:46.361816Z",
     "iopub.status.busy": "2025-05-04T22:06:46.361560Z",
     "iopub.status.idle": "2025-05-04T22:06:46.387611Z",
     "shell.execute_reply": "2025-05-04T22:06:46.387032Z",
     "shell.execute_reply.started": "2025-05-04T22:06:46.361746Z"
    }
   },
   "outputs": [
    {
     "name": "stdout",
     "output_type": "stream",
     "text": [
      "<class 'pandas.core.frame.DataFrame'>\n",
      "RangeIndex: 109167 entries, 0 to 109166\n",
      "Data columns (total 11 columns):\n",
      " #   Column            Non-Null Count   Dtype  \n",
      "---  ------            --------------   -----  \n",
      " 0   Sucursal          109167 non-null  object \n",
      " 1   EstudioModalidad  109167 non-null  object \n",
      " 2   ReservacionSP     109167 non-null  int64  \n",
      " 3   TEPFechaEspera    109167 non-null  int64  \n",
      " 4   TEPHoraInicio     108867 non-null  object \n",
      " 5   TEPHoraFin        107554 non-null  object \n",
      " 6   TEPMinutos        109167 non-null  float64\n",
      " 7   TAPFechaAtencion  109167 non-null  int64  \n",
      " 8   TAPHoraInicio     107552 non-null  object \n",
      " 9   TAPHoraFin        107716 non-null  object \n",
      " 10  TAPMinutos        106101 non-null  float64\n",
      "dtypes: float64(2), int64(3), object(6)\n",
      "memory usage: 9.2+ MB\n"
     ]
    }
   ],
   "source": [
    "df1.info()"
   ]
  },
  {
   "cell_type": "markdown",
   "id": "6193a6df",
   "metadata": {},
   "source": [
    "Variables tipo object: Sucursal, EstudioModalidad, TEPHoraInicio, TEPHoraFin, TAPHoraInicio, TAPHoraFin \n",
    "\n",
    "Variables tipo int: ReservacionSP, TEPFechaEspera \n",
    "\n",
    "Variables tipo float: TEPMinutos, TAPMinutos \n",
    "\n",
    "### Significado de cada variable y unidades de medida:\n",
    "\n",
    "| Variable                | Descripción                                            | Unidad / Formato         |\n",
    "| ----------------------- | -------------------------------------------------------| -------------------------|\n",
    "| `Sucursal`              | Nombre de la sucursal donde se brindó el servicio      | Texto                    |\n",
    "| `EstudioModalidad`      | Tipo de estudio o modalidad solicitada                 | Texto                    |\n",
    "| `ReservacionSP`         | Número identificador de la reservación                 | Entero                   |\n",
    "| `TEPFechaEspera`        | Fecha en que inicia el tiempo de espera                | Entero (AAAAMMDD)        |\n",
    "| `TEPHoraInicio`         | Hora en que inicia el tiempo de espera                 | Cadena tipo fecha-hora   |\n",
    "| `TEPHoraFin`            | Hora en que finaliza el tiempo de espera               | Cadena tipo fecha-hora   |\n",
    "| `TEPMinutos`            | Duración del tiempo de espera                          | Minutos (número decimal) |\n",
    "| `TAPFechaAtencion`      | Fecha en que se brindó la atención                     | Entero (AAAAMMDD)        |\n",
    "| `TAPHoraInicio`         | Hora en que inicia la atención médica                  | Cadena tipo fecha-hora   |\n",
    "| `TAPHoraFin`            | Hora en que finaliza la atención médica                | Cadena tipo fecha-hora   |\n",
    "| `TAPMinutos`            | Duración del tiempo de atención                        | Minutos (número decimal) |\n"
   ]
  },
  {
   "cell_type": "markdown",
   "id": "07145824",
   "metadata": {},
   "source": [
    "## Variables categóricas"
   ]
  },
  {
   "cell_type": "code",
   "execution_count": 4,
   "id": "e0ef4a12",
   "metadata": {
    "execution": {
     "iopub.execute_input": "2025-05-04T22:06:46.389345Z",
     "iopub.status.busy": "2025-05-04T22:06:46.388581Z",
     "iopub.status.idle": "2025-05-04T22:06:46.400904Z",
     "shell.execute_reply": "2025-05-04T22:06:46.400354Z",
     "shell.execute_reply.started": "2025-05-04T22:06:46.389329Z"
    }
   },
   "outputs": [
    {
     "name": "stdout",
     "output_type": "stream",
     "text": [
      "Sucursales disponibles:  ['COYOACAN' 'CULIACAN' 'CULIACAN CAÑADAS' 'CULIACAN COLEGIO MILITAR'\n",
      " 'CULIACAN LA CONQUISTA' 'CULIACAN LAS TORRES' 'CULIACAN NAKAYAMA'\n",
      " 'CULIACAN UNIVERSITARIOS']\n",
      "\n",
      "Tipos de estudios disponibles:  ['DENSITOMETRIA' 'ELECTROCARDIOGRAMA' 'LABORATORIO' 'MASTOGRAFIA'\n",
      " 'NUTRICION' 'OPTOMETRIA' 'PAPANICOLAOU' 'RAYOS X' 'RESONANCIA MAGNETICA'\n",
      " 'TOMOGRAFIA' 'ULTRASONIDO']\n"
     ]
    }
   ],
   "source": [
    "print(\"Sucursales disponibles: \",df1['Sucursal'].unique())\n",
    "print(\"\\nTipos de estudios disponibles: \",df1['EstudioModalidad'].unique())"
   ]
  },
  {
   "cell_type": "markdown",
   "id": "fdf6f871",
   "metadata": {},
   "source": [
    "Las variables categóricas son las sucursales donde el paciente se atendió y también el tipo de examen o estudio que se hizo. "
   ]
  },
  {
   "cell_type": "markdown",
   "id": "76afb0b5",
   "metadata": {},
   "source": [
    "# Exploración de los datos\n",
    "\n",
    "## Estadísticas descriptivas"
   ]
  },
  {
   "cell_type": "code",
   "execution_count": 5,
   "id": "a0334d25",
   "metadata": {
    "execution": {
     "iopub.execute_input": "2025-05-04T22:06:46.401424Z",
     "iopub.status.busy": "2025-05-04T22:06:46.401291Z",
     "iopub.status.idle": "2025-05-04T22:06:46.418924Z",
     "shell.execute_reply": "2025-05-04T22:06:46.418697Z",
     "shell.execute_reply.started": "2025-05-04T22:06:46.401413Z"
    }
   },
   "outputs": [
    {
     "data": {
      "text/html": [
       "<div>\n",
       "<style scoped>\n",
       "    .dataframe tbody tr th:only-of-type {\n",
       "        vertical-align: middle;\n",
       "    }\n",
       "\n",
       "    .dataframe tbody tr th {\n",
       "        vertical-align: top;\n",
       "    }\n",
       "\n",
       "    .dataframe thead th {\n",
       "        text-align: right;\n",
       "    }\n",
       "</style>\n",
       "<table border=\"1\" class=\"dataframe\">\n",
       "  <thead>\n",
       "    <tr style=\"text-align: right;\">\n",
       "      <th></th>\n",
       "      <th>ReservacionSP</th>\n",
       "      <th>TEPFechaEspera</th>\n",
       "      <th>TEPMinutos</th>\n",
       "      <th>TAPFechaAtencion</th>\n",
       "      <th>TAPMinutos</th>\n",
       "    </tr>\n",
       "  </thead>\n",
       "  <tbody>\n",
       "    <tr>\n",
       "      <th>count</th>\n",
       "      <td>1.091670e+05</td>\n",
       "      <td>1.091670e+05</td>\n",
       "      <td>109167.000000</td>\n",
       "      <td>1.091670e+05</td>\n",
       "      <td>106101.000000</td>\n",
       "    </tr>\n",
       "    <tr>\n",
       "      <th>mean</th>\n",
       "      <td>8.736818e+08</td>\n",
       "      <td>2.025032e+07</td>\n",
       "      <td>56.199981</td>\n",
       "      <td>2.025032e+07</td>\n",
       "      <td>7.967964</td>\n",
       "    </tr>\n",
       "    <tr>\n",
       "      <th>std</th>\n",
       "      <td>3.282144e+08</td>\n",
       "      <td>8.931552e+00</td>\n",
       "      <td>1439.979001</td>\n",
       "      <td>8.933601e+00</td>\n",
       "      <td>56.840450</td>\n",
       "    </tr>\n",
       "    <tr>\n",
       "      <th>min</th>\n",
       "      <td>3.498895e+07</td>\n",
       "      <td>2.025030e+07</td>\n",
       "      <td>0.000000</td>\n",
       "      <td>2.025030e+07</td>\n",
       "      <td>-97.480000</td>\n",
       "    </tr>\n",
       "    <tr>\n",
       "      <th>25%</th>\n",
       "      <td>9.951073e+08</td>\n",
       "      <td>2.025031e+07</td>\n",
       "      <td>0.000000</td>\n",
       "      <td>2.025031e+07</td>\n",
       "      <td>3.280000</td>\n",
       "    </tr>\n",
       "    <tr>\n",
       "      <th>50%</th>\n",
       "      <td>1.000753e+09</td>\n",
       "      <td>2.025032e+07</td>\n",
       "      <td>2.530000</td>\n",
       "      <td>2.025032e+07</td>\n",
       "      <td>5.980000</td>\n",
       "    </tr>\n",
       "    <tr>\n",
       "      <th>75%</th>\n",
       "      <td>1.006304e+09</td>\n",
       "      <td>2.025032e+07</td>\n",
       "      <td>8.980000</td>\n",
       "      <td>2.025032e+07</td>\n",
       "      <td>9.350000</td>\n",
       "    </tr>\n",
       "    <tr>\n",
       "      <th>max</th>\n",
       "      <td>1.011670e+09</td>\n",
       "      <td>2.025033e+07</td>\n",
       "      <td>177096.130000</td>\n",
       "      <td>2.025033e+07</td>\n",
       "      <td>11504.100000</td>\n",
       "    </tr>\n",
       "  </tbody>\n",
       "</table>\n",
       "</div>"
      ],
      "text/plain": [
       "       ReservacionSP  TEPFechaEspera     TEPMinutos  TAPFechaAtencion  \\\n",
       "count   1.091670e+05    1.091670e+05  109167.000000      1.091670e+05   \n",
       "mean    8.736818e+08    2.025032e+07      56.199981      2.025032e+07   \n",
       "std     3.282144e+08    8.931552e+00    1439.979001      8.933601e+00   \n",
       "min     3.498895e+07    2.025030e+07       0.000000      2.025030e+07   \n",
       "25%     9.951073e+08    2.025031e+07       0.000000      2.025031e+07   \n",
       "50%     1.000753e+09    2.025032e+07       2.530000      2.025032e+07   \n",
       "75%     1.006304e+09    2.025032e+07       8.980000      2.025032e+07   \n",
       "max     1.011670e+09    2.025033e+07  177096.130000      2.025033e+07   \n",
       "\n",
       "          TAPMinutos  \n",
       "count  106101.000000  \n",
       "mean        7.967964  \n",
       "std        56.840450  \n",
       "min       -97.480000  \n",
       "25%         3.280000  \n",
       "50%         5.980000  \n",
       "75%         9.350000  \n",
       "max     11504.100000  "
      ]
     },
     "execution_count": 5,
     "metadata": {},
     "output_type": "execute_result"
    }
   ],
   "source": [
    "df1.describe()"
   ]
  },
  {
   "cell_type": "markdown",
   "id": "6a0e2a5f",
   "metadata": {},
   "source": [
    "De esta tabla, podemos ignorar la variable `ReservacionSP`, ya que aunque la variable es un int, solo es un identificador de la reservación. Las demás variables son las que nos importan para esta situación problema. Para `TEPFechaEspera` y `TAPFechaAtencion` representan fechas en formato entero, las cuales todas correspondientes a marzo de 2025 (lo cual ya sabíamos porque el socio formador nos dijo que nos iba a dar las observaciones de un mes). `TEPMinutos`, que es tiempo de espera, tiene una media de 56.2 minutos, pero una desviación estándar muy alta (1439.98) y una mediana de solo 2.53 minutos, lo que indica una distribución muy sesgada hacia valores extremos. El valor máximo de espera es 177,096 minutos ( aproximadamente 123 días), lo cual probablemente representa un dato atípico o erróneo. El 75% de los usuarios esperó menos de 9 minutos. Viendo esta descripción inicial podemos ver que los datos tienen valores atípicos. En cuanto a `TAPMinutos`, la media es de 8 minutos, y la mediana de 5.98, lo cual sugiere una distribución más razonable. Sin embargo, también hay valores negativos, lo cual es físicamente imposible, y se podrían descartar y un máximo de 11,504 minutos (aproximadamente 8 días), lo que indica posibles errores o inconsistencias en los datos. Aunque, el Socio Formador nos dijo que después de haber pagado los estudios, el paciente tiene un mes para ir a hacerselos, por lo que técnicamente no es un valor atípico. Para cuestiones de esta situación problema, si se tomará como un outlier. "
   ]
  },
  {
   "cell_type": "markdown",
   "id": "72d574db",
   "metadata": {},
   "source": [
    "## Gráficas exploratorias relevantes (histogramas, box plots, scatter plots, bar charts, etc.)\n",
    "\n",
    "Se encontraron outliers en el análisis preliminar de este trabajo, en donde, encontrabamos casos de personas que duraban \"esperando\" alrededor de 121 días. Esto claramente es un error de la base de datos, y por ende, se limpiaron los outliers y se estableció que solo contarán los datos que sean menores a 43,200 minutos ya que son 30 días que tienen las personas para hacerse sus estudios"
   ]
  },
  {
   "cell_type": "code",
   "execution_count": 6,
   "id": "aae7eef8",
   "metadata": {
    "execution": {
     "iopub.execute_input": "2025-05-04T22:06:46.419571Z",
     "iopub.status.busy": "2025-05-04T22:06:46.419338Z",
     "iopub.status.idle": "2025-05-04T22:06:48.373127Z",
     "shell.execute_reply": "2025-05-04T22:06:48.372757Z",
     "shell.execute_reply.started": "2025-05-04T22:06:46.419563Z"
    }
   },
   "outputs": [
    {
     "data": {
      "image/png": "[encoded data removed]",
      "text/plain": [
       "<Figure size 640x480 with 1 Axes>"
      ]
     },
     "metadata": {},
     "output_type": "display_data"
    }
   ],
   "source": [
    "df_espera = df1[df1['TEPMinutos'] < 43200]\n",
    "sns.boxplot(x='Sucursal', y='TEPMinutos', data=df_espera)\n",
    "plt.xticks(rotation=90)\n",
    "plt.title('Boxplot de Minutos de Espera en la Fila por sucursal')\n",
    "plt.show()"
   ]
  },
  {
   "cell_type": "markdown",
   "id": "d56838c8",
   "metadata": {},
   "source": [
    "Después, se buscó realizar un gráfico para cada una de las sucursales, en donde se puediera observar los minutos de atención por cada uno de los estudios que se realizan dentro de la clínica. De esta forma se puede observar de mejor manera si las sucursales funcionan de la misma forma o existen unas sucursales que tardan más de lo normal. Así mismo, se puso un límite de 36 horas porque creemos razonable que los clientes en algunos hayan tenido que esperar un día y medio si es que había mucha gente y tuvieran que regresar al día siguiente para poder hacerse sus estudios."
   ]
  },
  {
   "cell_type": "markdown",
   "id": "d98bfaf5",
   "metadata": {},
   "source": [
    "![](gs1.png)"
   ]
  },
  {
   "cell_type": "markdown",
   "id": "4efd5cad",
   "metadata": {},
   "source": [
    "En todas las sucursales, la mayoría de las modalidades tienen tiempos de atención concentrados entre 0 y 20 minutos, lo cual es esperable para muchos servicios ambulatorios. Se observan varios outliers, especialmente en estudios como Resonancia Magnética, Tomografía, y Rayos X, que tienden a mostrar: mayor mediana de duración, mayor variabilidad en los tiempos de atención y casos extremos con tiempos muy altos (más de 500 minutos).\n",
    "Coyoacán y Culiacán tienen mayor dispersión en estudios como Resonancia Magnética y Tomografía. En Coyoacán, Rayos X también muestra una dispersión mayor comparada con otras sucursales. Por otro lado, Culiacán Cañadas, presenta distribuciones más compactas, con menos valores extremos. La atención en Ultrasonido y Rayos X es más homogénea. Y en Culiacán Colegio Militar también se presenta dispersión considerable en Resonancia Magnética y Tomografía, pero en general es más uniforme que Culiacán centro o Coyoacán."
   ]
  },
  {
   "cell_type": "markdown",
   "id": "64d19d93",
   "metadata": {
    "execution": {
     "iopub.execute_input": "2025-05-04T22:06:48.375124Z",
     "iopub.status.busy": "2025-05-04T22:06:48.374924Z",
     "iopub.status.idle": "2025-05-04T22:06:48.981366Z",
     "shell.execute_reply": "2025-05-04T22:06:48.980646Z",
     "shell.execute_reply.started": "2025-05-04T22:06:48.375109Z"
    }
   },
   "source": [
    "![hola](g2.png)"
   ]
  },
  {
   "cell_type": "markdown",
   "id": "5f0bb061",
   "metadata": {},
   "source": [
    "La mayoría de las modalidades tienen tiempos de atención relativamente bajos y similares. Ultrasonido destaca con mayor variabilidad y un rango más amplio, así como múltiples outliers positivos, lo que indica que algunos estudios tardan significativamente más. Hay algunos valores atípicos negativos, lo cual no es físicamente posible, pueden ser errores en la capturación. La razón por la que separamos estas sucursales en un gráfico versus las otras es que estan sucursales son más pequeñas y no tienen tantos estudios como las otras. En general, podemos ver que el tiempo de atención de ultrasonido es más alto a comparación que los otros estudios para todas las sucursales."
   ]
  },
  {
   "cell_type": "markdown",
   "id": "3f8a867d",
   "metadata": {},
   "source": [
    "### Histogramas en el tiempo de espera por estudio"
   ]
  },
  {
   "cell_type": "markdown",
   "id": "d5724c49",
   "metadata": {},
   "source": [
    "![](g3.png)"
   ]
  },
  {
   "cell_type": "markdown",
   "id": "bc986edb",
   "metadata": {},
   "source": [
    "Para estos gráficos, eliminamos los tiempos de espera mayor a 2 horas, lo que nos permitió ver mejor la distribución de los tiempos de espera por estudio. Podemos ver que los estudios con mayor distribución en el tiempo de espera y con mayores tiempos de espera son Optometría, Rayos X y Resonancia Mágnetica."
   ]
  },
  {
   "cell_type": "markdown",
   "id": "fea6cf28",
   "metadata": {},
   "source": [
    "## Resumen de hallazgos importantes \n",
    "\n",
    "#### Tiempo promedio de espera en la fila por sucursal"
   ]
  },
  {
   "cell_type": "code",
   "execution_count": 8,
   "id": "c6573c0d",
   "metadata": {
    "execution": {
     "iopub.execute_input": "2025-05-04T22:06:49.400429Z",
     "iopub.status.busy": "2025-05-04T22:06:49.400340Z",
     "iopub.status.idle": "2025-05-04T22:06:49.408381Z",
     "shell.execute_reply": "2025-05-04T22:06:49.407965Z",
     "shell.execute_reply.started": "2025-05-04T22:06:49.400420Z"
    }
   },
   "outputs": [
    {
     "data": {
      "text/plain": [
       "Sucursal\n",
       "COYOACAN                     72.300367\n",
       "CULIACAN                     36.938469\n",
       "CULIACAN CAÑADAS             27.642193\n",
       "CULIACAN COLEGIO MILITAR     54.132468\n",
       "CULIACAN LA CONQUISTA        42.826846\n",
       "CULIACAN LAS TORRES          67.250430\n",
       "CULIACAN NAKAYAMA           101.117743\n",
       "CULIACAN UNIVERSITARIOS      38.016023\n",
       "Name: TEPMinutos, dtype: float64"
      ]
     },
     "execution_count": 8,
     "metadata": {},
     "output_type": "execute_result"
    }
   ],
   "source": [
    "df1.groupby('Sucursal')['TEPMinutos'].mean()"
   ]
  },
  {
   "cell_type": "markdown",
   "id": "2f38a9ef",
   "metadata": {},
   "source": [
    "Los datos muestran el tiempo promedio de espera, en minutos, por sucursal. La sucursal con el mayor tiempo de espera es CULIACÁN NAKAYAMA, con un promedio de 101.12 minutos, lo cual podría indicar una alta demanda de servicios o limitaciones en la capacidad operativa. Le siguen COYOACÁN con 72.30 minutos y CULIACÁN LAS TORRES con 67.25 minutos, también con promedios elevados que podrían requerir revisión de procesos. En contraste, la sucursal con el menor tiempo de espera es CULIACÁN CAÑADAS, con 27.64 minutos, lo que sugiere un buen desempeño operativo o una menor carga de trabajo. Entre estas dos situaciones extremas, hay otras sucursales como CULIACÁN UNIVERSITARIOS (38.01 minutos), CULIACÁN LA CONQUISTA (42.82 minutos) y CULIACÁN COLEGIO MILITAR (54.13 minutos), que presentan tiempos de espera intermedios. En general, se observa una importante variabilidad entre las sucursales, lo cual podría reflejar diferencias en la eficiencia operativa, la disponibilidad de personal o la demanda de servicios."
   ]
  },
  {
   "cell_type": "markdown",
   "id": "7f7aedc7",
   "metadata": {},
   "source": [
    "#### Tiempo promedio de espera por estudio"
   ]
  },
  {
   "cell_type": "code",
   "execution_count": 4,
   "id": "f3d360c9",
   "metadata": {},
   "outputs": [
    {
     "data": {
      "text/plain": [
       "EstudioModalidad\n",
       "DENSITOMETRIA            29.757799\n",
       "ELECTROCARDIOGRAMA        3.565041\n",
       "LABORATORIO               5.959501\n",
       "MASTOGRAFIA              68.370663\n",
       "NUTRICION                45.037655\n",
       "OPTOMETRIA                8.313357\n",
       "PAPANICOLAOU             39.832401\n",
       "RAYOS X                  15.936725\n",
       "RESONANCIA MAGNETICA    501.333736\n",
       "TOMOGRAFIA               87.957236\n",
       "ULTRASONIDO             236.057508\n",
       "Name: TEPMinutos, dtype: float64"
      ]
     },
     "execution_count": 4,
     "metadata": {},
     "output_type": "execute_result"
    }
   ],
   "source": [
    "df1.groupby('EstudioModalidad')['TEPMinutos'].mean()"
   ]
  },
  {
   "cell_type": "markdown",
   "id": "29288812",
   "metadata": {},
   "source": [
    "Los tiempos de espera promedio por tipo de estudio presentan una gran variabilidad. Destacan RESONANCIA MAGNÉTICA y ULTRASONIDO con los tiempos más altos, superando los 200 minutos , lo cual es congruente con los histogramas, lo que podría indicar una saturación significativa o recursos limitados para atender la demanda. También sobresalen TOMOGRAFÍA, MASTOGRAFÍA y NUTRICIÓN, con tiempos superiores a los 40 minutos. En contraste, estudios como ELECTROCARDIOGRAMA, LABORATORIO y OPTOMETRÍA mantienen tiempos mucho más bajos, por debajo de los 10 minutos, lo que sugiere una atención más ágil en estas áreas. Estas diferencias reflejan la necesidad de revisar procesos y capacidad operativa, especialmente en los estudios con mayor tiempo de espera."
   ]
  },
  {
   "cell_type": "markdown",
   "id": "027f4d0e",
   "metadata": {},
   "source": [
    "#### Tiempo promedio de atención por estudio"
   ]
  },
  {
   "cell_type": "code",
   "execution_count": 3,
   "id": "f2ca9cdc",
   "metadata": {
    "execution": {
     "iopub.execute_input": "2025-05-04T22:07:21.921011Z",
     "iopub.status.busy": "2025-05-04T22:07:21.920185Z",
     "iopub.status.idle": "2025-05-04T22:07:21.946912Z",
     "shell.execute_reply": "2025-05-04T22:07:21.946004Z",
     "shell.execute_reply.started": "2025-05-04T22:07:21.920960Z"
    }
   },
   "outputs": [
    {
     "data": {
      "text/plain": [
       "EstudioModalidad\n",
       "DENSITOMETRIA            7.097522\n",
       "ELECTROCARDIOGRAMA       6.781235\n",
       "LABORATORIO              3.310089\n",
       "MASTOGRAFIA              8.297301\n",
       "NUTRICION               12.433075\n",
       "OPTOMETRIA              10.280794\n",
       "PAPANICOLAOU             7.737526\n",
       "RAYOS X                  5.155964\n",
       "RESONANCIA MAGNETICA    36.080671\n",
       "TOMOGRAFIA              19.062311\n",
       "ULTRASONIDO             15.350868\n",
       "Name: TAPMinutos, dtype: float64"
      ]
     },
     "execution_count": 3,
     "metadata": {},
     "output_type": "execute_result"
    }
   ],
   "source": [
    "df1.groupby('EstudioModalidad')['TAPMinutos'].mean()"
   ]
  },
  {
   "cell_type": "markdown",
   "id": "ed3a0766",
   "metadata": {},
   "source": [
    "En general, los tiempos promedio de espera varían significativamente entre los distintos tipos de estudio. Las modalidades como LABORATORIO, RAYOS X y ELECTROCARDIOGRAMA presentan tiempos de espera relativamente bajos, por debajo de los 7 minutos, lo que sugiere procesos más ágiles o mayor disponibilidad. En contraste, estudios como RESONANCIA MAGNÉTICA, TOMOGRAFÍA y ULTRASONIDO muestran tiempos de espera considerablemente más altos, superando los 15 minutos, siendo RESONANCIA MAGNÉTICA la que registra el mayor promedio con más de 36 minutos. Estos resultados reflejan diferencias importantes en la complejidad del estudio o en la capacidad instalada para atender la demanda.\n",
    "\n",
    "#### Tiempo promedio de atención por Sucursal"
   ]
  },
  {
   "cell_type": "code",
   "execution_count": 5,
   "id": "f6f5fab4",
   "metadata": {},
   "outputs": [
    {
     "data": {
      "text/plain": [
       "Sucursal\n",
       "COYOACAN                    8.386956\n",
       "CULIACAN                    9.082874\n",
       "CULIACAN CAÑADAS            7.096294\n",
       "CULIACAN COLEGIO MILITAR    8.215843\n",
       "CULIACAN LA CONQUISTA       5.904899\n",
       "CULIACAN LAS TORRES         6.621328\n",
       "CULIACAN NAKAYAMA           6.615168\n",
       "CULIACAN UNIVERSITARIOS     6.573067\n",
       "Name: TAPMinutos, dtype: float64"
      ]
     },
     "execution_count": 5,
     "metadata": {},
     "output_type": "execute_result"
    }
   ],
   "source": [
    "df1.groupby('Sucursal')['TAPMinutos'].mean()"
   ]
  },
  {
   "cell_type": "markdown",
   "id": "9531d55a",
   "metadata": {},
   "source": [
    "Se puede ver que el tiempo promedio de atención de todas las sucursales en general es de entre 6 minutos a 10 minutos, lo cual es bueno. Esta dentro del margen establecido por el Socio Formador."
   ]
  },
  {
   "cell_type": "markdown",
   "id": "261ed162",
   "metadata": {},
   "source": [
    "## Identificación de variables potencialmente relevantes"
   ]
  },
  {
   "cell_type": "markdown",
   "id": "38013f52-68cc-4af2-8890-bf2b953cdf6f",
   "metadata": {},
   "source": [
    "Los datos que nos important más en este problema son los de `TEPHoraInicio`, `TEPHoraFin` y `TEPMinutos`, ya que son los que nos dicen cuánto esperó cada paciente en ser atendido. Para poder minimizar este tiempo, necesitamos optimizar la ruta que toma cada paciente en hacer sus estudios. Claramente tambien necesitamos `EstudioModadlidad` para saber que estudio se hará la persona y saber el tiempo promedio de atención de ese estudio y el tiempo promedio de espera en ese estudio. Viendo que los tiempos pueden variar mucho por sucursal, valdría la pena hacer que la solución identifique que sucursal es para tener una ruta más exacta. "
   ]
  },
  {
   "cell_type": "markdown",
   "id": "3ef1e30f-1b96-42e0-b487-80a68caae7d6",
   "metadata": {},
   "source": [
    "## Identificación de transformaciones prometedoras si existen o posibles variables nuevas"
   ]
  },
  {
   "cell_type": "markdown",
   "id": "eed03028-5427-483e-b660-88ca0fcf89a1",
   "metadata": {},
   "source": [
    "Con información adicional proporcionada por el socioformador, una posible transformación prometedora sería la de consolidar varios estudios médicos de un mismo paciente en una sola base de datos. Esto permitiría rastrear la trayectoria clínica de cada paciente de manera más precisa a lo largo del tiempo, lo que facilitaría la identificación de patrones de evolución y la detección temprana de posibles complicaciones. Además, al reunir los datos de múltiples visitas o estudios en un único perfil, se podría aplicar un análisis longitudinal para observar tendencias y predecir posibles necesidades futuras de atención.\n",
    "\n",
    "Otra posible transformación podría ser la simulación de llegada de pacientes, lo que permitiría poner a prueba nuestro algoritmo en un entorno más dinámico y realista. Este enfoque permitiría evaluar la efectividad del modelo no solo en términos de clasificación de diagnósticos, sino también en cuanto a su capacidad para predecir tiempos de espera, optimizar el flujo de pacientes y mejorar la asignación de recursos dentro de la clínica."
   ]
  },
  {
   "cell_type": "markdown",
   "id": "8d157348-caae-4293-8dd5-e24ec7b66abd",
   "metadata": {},
   "source": [
    "## Evaluación de la calidad de los datos"
   ]
  },
  {
   "cell_type": "markdown",
   "id": "5af92a14-8723-42c4-997f-554dd4a5744b",
   "metadata": {},
   "source": [
    "## Detección y cuantificación de valores faltantes, outliers y errores"
   ]
  },
  {
   "cell_type": "code",
   "execution_count": 22,
   "id": "772096f0-1925-4776-9a6f-a6b36d10fc55",
   "metadata": {
    "execution": {
     "iopub.execute_input": "2025-05-04T22:23:01.841040Z",
     "iopub.status.busy": "2025-05-04T22:23:01.840092Z",
     "iopub.status.idle": "2025-05-04T22:23:01.862379Z",
     "shell.execute_reply": "2025-05-04T22:23:01.861853Z",
     "shell.execute_reply.started": "2025-05-04T22:23:01.840981Z"
    }
   },
   "outputs": [
    {
     "name": "stdout",
     "output_type": "stream",
     "text": [
      "Número de datos erróneas: 28253\n",
      "Porcentaje de datos erróneas: 25.88053166249874\n"
     ]
    }
   ],
   "source": [
    "df_outliers_amount = len(df1[df1['TEPMinutos'] == 0]) + len(df1[df1['TEPMinutos'] > 43200])\n",
    "print(f\"Número de datos erróneas: {df_outliers_amount}\")\n",
    "print(f\"Porcentaje de datos erróneas: {(df_outliers_amount*100)/len(df1)}\")"
   ]
  },
  {
   "cell_type": "markdown",
   "id": "f6875c55",
   "metadata": {},
   "source": [
    "El análisis del conjunto de datos revela que hay un total de 28,253 registros erróneos, lo que representa aproximadamente el 25.88% del total de los datos. Este porcentaje es significativo, ya que más de una cuarta parte del conjunto de datos contiene errores, lo cual puede tener un impacto considerable en la calidad y la fiabilidad de la solución generada. Los errores en los datos podrían deberse a diversas razones, como valores faltantes (en algunas variables podemos ver que hay muchos valores faltantes), inconsistencias en los formatos de entrada, o la presencia de valores atípicos que no siguen el patrón general del conjunto de datos.\n",
    "\n",
    "Es crucial abordar estos errores antes de proceder con el análisis, ya que los datos erróneos pueden llevar a resultados imprecisos, afectar la capacidad de la solución para aprender patrones correctos, y generar predicciones erróneas. Las estrategias para manejar los datos erróneos incluyen la limpieza de datos, como la identificación y corrección de inconsistencias, la imputación de valores faltantes utilizando los valores promedios por sucursal y por estudio, o el tratamiento de los valores atípicos que podrían estar distorsionando la distribución de los datos."
   ]
  },
  {
   "cell_type": "markdown",
   "id": "dfbbee01-5230-44ee-829f-90940922be0c",
   "metadata": {},
   "source": [
    "## Discusión sobre la calidad general de los datos y posibles problemas que podrían afectar el análisis futuro."
   ]
  },
  {
   "cell_type": "markdown",
   "id": "b7e9c05c-8787-49e8-bc47-d0be9079e788",
   "metadata": {},
   "source": [
    "Para mejorar la calidad de los datos y construir una solución más precisa para la optimización de las rutas de los pacientes, una estrategia efectiva sería realizar un análisis por sucursal, ya que esto permitirá entender mejor las variaciones en los tiempos de espera y atención dependiendo de la localización de cada paciente. Al dividir los datos por sucursal, se puede detectar si existen patrones específicos que varíen entre diferentes lugares y ajustar el modelo en consecuencia.\n",
    "\n",
    "En cuanto a la limpieza de los datos,se van a eliminar, o ignorar, las columnas que no aportan valor significativo para la solución del problema, como aquellas que no están directamente relacionadas con los tiempos de espera y atención, o que no tienen relevancia en la determinación de la ruta óptima. Sin embargo, las columnas clave, como `TEPMinutos`, `TAPMinutos`, `TEPHoraInicio`, `TAPHoraInicio`, entre otras, son esenciales para la optimización, por lo que cualquier valor faltante en ellas será imputado de manera cuidadosa. Una estrategia adecuada sería realizar una imputación simple utilizando la media de cada variable, considerando tanto la sucursal como el tipo de estudio, para asegurar que los valores faltantes sean reemplazados de manera coherente y específica para cada grupo. Esto ayudará a que los datos imputados reflejen con mayor exactitud las características de cada situación particular y mantengan la coherencia dentro de las diferentes sucursales y estudios.\n",
    "\n",
    "También, creemos importante filtrar los valores extremadamente altos o fuera de rango, como los tiempos de espera o atención muy largos, que pueden ser producto de errores en la captura de datos. Estos valores atípicos podrían distorsionar el análisis y complicar la solución de manera innecesaria. \n",
    "\n",
    "Algunos problemas a futuro podrían ser:\n",
    "\n",
    "1. La variabilidad de los tiempos de espera y atención podría cambiar con el tiempo debido a factores como la demanda, la capacidad de los laboratorios, o incluso cambios en los procedimientos. Esto podría requerir actualizaciones periódicas del modelo para garantizar que se mantenga relevante y preciso. \n",
    "    \n",
    "2. La calidad de los datos siempre estará sujeta a los registros de los sistemas en las sucursales, por lo que si estos datos contienen errores sistemáticos no detectados, el modelo podría seguir teniendo limitaciones. \n",
    "\n",
    "La calidad de los datos es buena en términos generales, ya que contamos con una gran cantidad de registros, lo que es beneficioso para generar análisis robustos. Además, la diversidad en los tipos de estudio y las diferentes sucursales permite obtener una visualización más amplia de cómo varían los tiempos de espera y atención dependiendo del contexto específico. Sin embargo, existen algunos valores faltantes que pueden ser relevantes y errores en la recopilación de datos que podrían afectar la precisión del modelo. En resumen, aunque los datos tienen una base sólida, es necesario realizar acciones adicionales para corregir las inconsistencias y mejorar la calidad, lo que permitirá generar una solución más precisa y útil que represente una verdadera mejora para el socio formador."
   ]
  },
  {
   "cell_type": "markdown",
   "id": "bd395a98-c8a5-4360-b461-cda3380fed35",
   "metadata": {},
   "source": [
    "## Estrategias preliminares para tratar los problemas identificados."
   ]
  },
  {
   "cell_type": "markdown",
   "id": "65146671-1f6c-4abd-86f0-5472a911177f",
   "metadata": {},
   "source": [
    "1. Clasificación de estudios por paciente: consultaremos al socioformador para determinar si es posible clasificar los estudios por paciente. Esta clasificación nos permitirá rastrear la trayectoria de cada paciente dentro de la clínica, lo que facilitará la creación de rutas óptimas basadas en el historial de atención de cada uno. \n",
    "\n",
    "2. Imputación de valores faltantes: para las columnas clave con valores faltantes, como `TAPMinutos`, se procederá a realizar una imputación simple utilizando la media, agrupando por sucursal y tipo de estudio. Esto garantizará que los datos imputados sean coherentes y representen adecuadamente los patrones de cada grupo específico.\n",
    "\n",
    "3. Filtrado de outliers: los valores extremadamente altos en las columnas de `TAPMinutos` y `TEPMinutos` serán identificados como atípicos y descartados, ya que pueden ser producto de errores en la recopilación de datos y afectar negativamente los resultados del modelo.\n",
    "\n",
    "4. Análisis por sucursal: se realizará un análisis detallado de los datos por sucursal para comprender las variaciones en los tiempos de espera y atención. Esto nos permitirá adaptar el modelo a las particularidades de cada sucursal y mejorar la precisión de la solución.\n",
    "\n",
    "5. Simulación de la llegada de pacientes: Si no podemos clasificar los estudios por paciente, la creación de una base de datos simulada que represente la llegada de pacientes a la clínica nos permitirá probar diferentes escenarios y validar cómo varían los tiempos de espera y atención en función de las condiciones de la clínica."
   ]
  },
  {
   "cell_type": "markdown",
   "id": "d0d2a93a-8e82-4ac2-a3e7-24d8b9dbb92e",
   "metadata": {},
   "source": [
    "# Primeros insights"
   ]
  },
  {
   "cell_type": "markdown",
   "id": "c1685e13-2049-4037-bd72-25b7bf406595",
   "metadata": {},
   "source": [
    "## Identificación de patrones o correlaciones iniciales relevantes para el objetivo del reto.\n",
    "\n",
    "El análisis inicial de los datos revela patrones y correlaciones significativas que son cruciales para abordar el reto de optimización. Se observa una notable variabilidad en los tiempos de espera tanto entre las diferentes sucursales como entre los distintos tipos de estudio, lo que sugiere que el tiempo de espera no es un fenómeno uniforme y que está influenciado por factores específicos de la sucursal y el tipo de estudio. Por ejemplo, algunas sucursales muestran tiempos de espera promedio considerablemente más altos que otras, y estudios como la Resonancia Magnética y el Ultrasonido tienden a tener tiempos de espera mucho más largos en comparación con estudios como el Electrocardiograma o el Laboratorio. Además, la presencia de valores atípicos y errores en los datos, como tiempos de espera extremadamente largos o duraciones negativas, plantea un problema de calidad de los datos que debe resolverse para garantizar la fiabilidad del análisis. Estos hallazgos iniciales sugieren que el enfoque analítico y de modelado posterior debe considerar la necesidad de un análisis estratificado por sucursal y tipo de estudio, la implementación de técnicas robustas de limpieza de datos y la posible ingeniería de características a partir de las variables de tiempo. Además, la complejidad del problema podría requerir el uso de modelos de simulación o algoritmos de optimización para capturar la dinámica del flujo de pacientes y optimizar las rutas de manera efectiva.\n",
    "\n",
    "## Reflexión crítica\n",
    "\n",
    "La exploración inicial de los datos revela varios hallazgos que tienen implicaciones importantes para el desarrollo de un modelo efectivo de optimización de rutas de pacientes. La marcada variabilidad en los tiempos de espera entre sucursales y tipos de estudio sugiere que no se puede aplicar un enfoque único para todos los casos; más bien, se requerirá un análisis estratificado que considere las características específicas de cada sucursal y estudio. La presencia de outliers y errores en los datos subraya la necesidad de implementar procedimientos robustos de limpieza y preprocesamiento de datos para evitar que estos elementos distorsionen los resultados del modelo. Además, la naturaleza de las variables de tiempo (`TEPHoraInicio`, `TEPHoraFin`) podría exigir la creación de nuevas características que capturen patrones temporales relevantes, como las horas pico o los días de la semana con mayor afluencia de pacientes. En última instancia, la complejidad del problema de optimización podría hacer necesario el uso de técnicas de modelado más avanzadas. "
   ]
  }
 ],
 "metadata": {
  "kernelspec": {
   "display_name": "Python 3 (ipykernel)",
   "language": "python",
   "name": "python3"
  },
  "language_info": {
   "codemirror_mode": {
    "name": "ipython",
    "version": 3
   },
   "file_extension": ".py",
   "mimetype": "text/x-python",
   "name": "python",
   "nbconvert_exporter": "python",
   "pygments_lexer": "ipython3",
   "version": "3.11.5"
  }
 },
 "nbformat": 4,
 "nbformat_minor": 5
}
